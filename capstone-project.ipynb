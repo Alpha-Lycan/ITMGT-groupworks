{
 "cells": [
  {
   "cell_type": "markdown",
   "id": "f296ceae-1595-494b-9bc2-713a5ce79aec",
   "metadata": {},
   "source": [
    "<h1> Capstone Project</h1>\n",
    "\n",
    "Accounting thingy \n",
    "\n",
    "cash flows in general \n",
    "\n",
    "desktop app since it saves your stuff so its strictly an offline app \n",
    "\n",
    "label, date, inflow or outflow\n",
    "\n",
    "daily cash flows (no monthly expenses) \n",
    "\n",
    "--------\n",
    "\n",
    "monthly \n",
    "\n",
    "------\n",
    "\n",
    "yearly\n",
    "\n",
    "\n",
    "\n",
    "\n",
    "\n",
    "Workload: \n",
    "\n",
    "Argem:\n",
    "Marianne: Research and conceptualization, intial coding \n",
    "Clare: research din sa coding, initial coding\n",
    "\n",
    "\n",
    "\n"
   ]
  },
  {
   "cell_type": "code",
   "execution_count": null,
   "id": "3c566bfd-b7bf-451d-bca6-1a8ef2a226c8",
   "metadata": {},
   "outputs": [],
   "source": []
  }
 ],
 "metadata": {
  "kernelspec": {
   "display_name": "Python 3 (ipykernel)",
   "language": "python",
   "name": "python3"
  },
  "language_info": {
   "codemirror_mode": {
    "name": "ipython",
    "version": 3
   },
   "file_extension": ".py",
   "mimetype": "text/x-python",
   "name": "python",
   "nbconvert_exporter": "python",
   "pygments_lexer": "ipython3",
   "version": "3.9.12"
  }
 },
 "nbformat": 4,
 "nbformat_minor": 5
}
